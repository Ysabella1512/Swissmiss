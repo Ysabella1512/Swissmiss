{
 "cells": [
  {
   "cell_type": "markdown",
   "id": "9af69347-dabd-4a19-8f2c-5852c42a8a70",
   "metadata": {},
   "source": [
    "# Data Science Tools and Ecosystem"
   ]
  },
  {
   "cell_type": "markdown",
   "id": "cb852599-a6d3-49bb-ae20-458d51116a09",
   "metadata": {},
   "source": [
    "In this notebook, Data Science Tools and Ecosystem are summarized."
   ]
  },
  {
   "cell_type": "markdown",
   "id": "52bc8677-7a2e-41a6-b0cb-afc3237d9a4e",
   "metadata": {},
   "source": [
    "Some of the popular languages that Data Scientists use are:"
   ]
  },
  {
   "cell_type": "markdown",
   "id": "d8af4d46-8f8d-451b-9dfe-edfa6a980d1b",
   "metadata": {
    "tags": []
   },
   "source": [
    "1. Python\n",
    "2. SQL\n",
    "3. Javascript"
   ]
  },
  {
   "cell_type": "markdown",
   "id": "0a349a2f-8e21-4223-9d9d-4765694a9344",
   "metadata": {},
   "source": [
    "Some of the commonly used libraries used by Data Scientists include:\n",
    "1. Tensorflow\n",
    "2. Keras\n",
    "3. Scrapy"
   ]
  },
  {
   "cell_type": "markdown",
   "id": "d8b903f5-c102-4350-af9e-77ab5859869d",
   "metadata": {},
   "source": [
    "| Data Science Tools |\n",
    "|--------------------|\n",
    "| GitLab |\n",
    "| VS Code |\n",
    "| Notepad++ |"
   ]
  },
  {
   "cell_type": "markdown",
   "id": "6ac77a8b-93e2-4ad1-a25d-3dbebfd6961e",
   "metadata": {},
   "source": [
    "### Below are a few examples of evaluating arithmetic expressions in Python"
   ]
  },
  {
   "cell_type": "code",
   "execution_count": 2,
   "id": "59df5031-fccf-4f00-8522-7a3625d4cc90",
   "metadata": {
    "tags": []
   },
   "outputs": [
    {
     "data": {
      "text/plain": [
       "17.0"
      ]
     },
     "execution_count": 2,
     "metadata": {},
     "output_type": "execute_result"
    }
   ],
   "source": [
    " #This a simple arithmetic expression to mutiply then add integers.\n",
    "(3*4)+5."
   ]
  },
  {
   "cell_type": "code",
   "execution_count": 3,
   "id": "25d08e24-3104-4e41-a52e-ef593d13299b",
   "metadata": {
    "tags": []
   },
   "outputs": [
    {
     "data": {
      "text/plain": [
       "3.3333333333333335"
      ]
     },
     "execution_count": 3,
     "metadata": {},
     "output_type": "execute_result"
    }
   ],
   "source": [
    " #This will convert 200 minutes to hours by diving by 60\n",
    "200/60"
   ]
  },
  {
   "cell_type": "markdown",
   "id": "b7c6b395-3e1f-42b1-a2b8-c195017e8aba",
   "metadata": {},
   "source": [
    "**Objectives:**\n",
    "- List popular languages for Data Science\n",
    "- List libraries used by Data Scientists\n",
    "- Common Data Science Tools"
   ]
  },
  {
   "cell_type": "markdown",
   "id": "06929505-2b27-44ea-be94-741503cdc42e",
   "metadata": {},
   "source": [
    "## Author\n",
    "Etu Achenyo"
   ]
  },
  {
   "cell_type": "code",
   "execution_count": null,
   "id": "c0096b8f-1e9c-4f3c-b8d7-be3f5fbdf808",
   "metadata": {},
   "outputs": [],
   "source": []
  }
 ],
 "metadata": {
  "kernelspec": {
   "display_name": "Python",
   "language": "python",
   "name": "conda-env-python-py"
  },
  "language_info": {
   "codemirror_mode": {
    "name": "ipython",
    "version": 3
   },
   "file_extension": ".py",
   "mimetype": "text/x-python",
   "name": "python",
   "nbconvert_exporter": "python",
   "pygments_lexer": "ipython3",
   "version": "3.7.12"
  }
 },
 "nbformat": 4,
 "nbformat_minor": 5
}
